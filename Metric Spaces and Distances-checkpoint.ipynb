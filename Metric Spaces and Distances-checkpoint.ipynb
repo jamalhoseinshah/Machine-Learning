{
 "cells": [
  {
   "cell_type": "code",
   "execution_count": null,
   "id": "e9742691",
   "metadata": {},
   "outputs": [],
   "source": [
    "# This is created by jamal hussain shah topci Metric Spaces and Distances\n",
    "\n",
    "# Metric Spaces and Distances\n",
    "\n",
    "# Euclidean Distance"
   ]
  },
  {
   "cell_type": "code",
   "execution_count": 1,
   "id": "d8c30597",
   "metadata": {},
   "outputs": [],
   "source": [
    "distance.l2 <- function(x,y){\n",
    "  sqrt(sum((abs(x - y))^2 ))\n",
    "}"
   ]
  },
  {
   "cell_type": "code",
   "execution_count": 2,
   "id": "98e936d3",
   "metadata": {},
   "outputs": [
    {
     "data": {
      "text/html": [
       "1.4142135623731"
      ],
      "text/latex": [
       "1.4142135623731"
      ],
      "text/markdown": [
       "1.4142135623731"
      ],
      "text/plain": [
       "[1] 1.414214"
      ]
     },
     "metadata": {},
     "output_type": "display_data"
    }
   ],
   "source": [
    "x <- c(1,0,0)\n",
    "y <- c(0,1,0)\n",
    "distance.l2(x, y)"
   ]
  },
  {
   "cell_type": "code",
   "execution_count": 3,
   "id": "201429a8",
   "metadata": {},
   "outputs": [],
   "source": [
    "# Manhattan Distance"
   ]
  },
  {
   "cell_type": "code",
   "execution_count": 4,
   "id": "36b03426",
   "metadata": {},
   "outputs": [],
   "source": [
    "distance.l1 <- function(x,y){\n",
    "  sum(abs(x-y))\n",
    "}"
   ]
  },
  {
   "cell_type": "code",
   "execution_count": 5,
   "id": "ee540d2b",
   "metadata": {},
   "outputs": [
    {
     "data": {
      "text/html": [
       "2"
      ],
      "text/latex": [
       "2"
      ],
      "text/markdown": [
       "2"
      ],
      "text/plain": [
       "[1] 2"
      ]
     },
     "metadata": {},
     "output_type": "display_data"
    }
   ],
   "source": [
    "distance.l1(x, y)"
   ]
  },
  {
   "cell_type": "code",
   "execution_count": 6,
   "id": "18c4e1e2",
   "metadata": {},
   "outputs": [],
   "source": [
    "# Max Distance"
   ]
  },
  {
   "cell_type": "code",
   "execution_count": 7,
   "id": "ec0545d4",
   "metadata": {},
   "outputs": [],
   "source": [
    "distance.linf <- function(x,y){\n",
    "  max(abs(x - y))\n",
    "}"
   ]
  },
  {
   "cell_type": "code",
   "execution_count": 8,
   "id": "4b707678",
   "metadata": {},
   "outputs": [
    {
     "data": {
      "text/html": [
       "1"
      ],
      "text/latex": [
       "1"
      ],
      "text/markdown": [
       "1"
      ],
      "text/plain": [
       "[1] 1"
      ]
     },
     "metadata": {},
     "output_type": "display_data"
    }
   ],
   "source": [
    "distance.linf(x, y)"
   ]
  },
  {
   "cell_type": "code",
   "execution_count": 9,
   "id": "844bc9e0",
   "metadata": {},
   "outputs": [],
   "source": [
    "#  Minkowski Distance"
   ]
  },
  {
   "cell_type": "code",
   "execution_count": 10,
   "id": "52ad202e",
   "metadata": {},
   "outputs": [],
   "source": [
    "distance.lp <- function(x, y, p){\n",
    "  (sum((abs(x - y))^p))^(1/p)\n",
    "}"
   ]
  },
  {
   "cell_type": "code",
   "execution_count": 11,
   "id": "3a468941",
   "metadata": {},
   "outputs": [
    {
     "data": {
      "text/html": [
       "1.4142135623731"
      ],
      "text/latex": [
       "1.4142135623731"
      ],
      "text/markdown": [
       "1.4142135623731"
      ],
      "text/plain": [
       "[1] 1.414214"
      ]
     },
     "metadata": {},
     "output_type": "display_data"
    }
   ],
   "source": [
    "distance.lp(x, y, p=2)"
   ]
  },
  {
   "cell_type": "code",
   "execution_count": 12,
   "id": "224f5b01",
   "metadata": {},
   "outputs": [
    {
     "data": {
      "text/html": [
       "4"
      ],
      "text/latex": [
       "4"
      ],
      "text/markdown": [
       "4"
      ],
      "text/plain": [
       "[1] 4"
      ]
     },
     "metadata": {},
     "output_type": "display_data"
    }
   ],
   "source": [
    "distance.lp(x, y, p=.5)"
   ]
  },
  {
   "cell_type": "code",
   "execution_count": 13,
   "id": "7fc92516",
   "metadata": {},
   "outputs": [
    {
     "data": {
      "text/html": [
       "1.25992104989487"
      ],
      "text/latex": [
       "1.25992104989487"
      ],
      "text/markdown": [
       "1.25992104989487"
      ],
      "text/plain": [
       "[1] 1.259921"
      ]
     },
     "metadata": {},
     "output_type": "display_data"
    }
   ],
   "source": [
    "distance.lp(x, y, p=3)"
   ]
  },
  {
   "cell_type": "code",
   "execution_count": 14,
   "id": "18e22f4b",
   "metadata": {},
   "outputs": [],
   "source": [
    "#  Canberra Distance"
   ]
  },
  {
   "cell_type": "code",
   "execution_count": 15,
   "id": "c9c0a222",
   "metadata": {},
   "outputs": [],
   "source": [
    "distance.canberra <- function(x, y){\n",
    "  a1 <-  abs(x - y)\n",
    "  a2 <- abs(x) + abs(y)\n",
    "  a3 = a1 / a2\n",
    "  sum(a1 / a2, na.rm=T)\n",
    "}"
   ]
  },
  {
   "cell_type": "code",
   "execution_count": 16,
   "id": "d4b8df7a",
   "metadata": {},
   "outputs": [
    {
     "data": {
      "text/html": [
       "2"
      ],
      "text/latex": [
       "2"
      ],
      "text/markdown": [
       "2"
      ],
      "text/plain": [
       "[1] 2"
      ]
     },
     "metadata": {},
     "output_type": "display_data"
    }
   ],
   "source": [
    "distance.canberra(x, y)"
   ]
  },
  {
   "cell_type": "code",
   "execution_count": 17,
   "id": "4e594e36",
   "metadata": {},
   "outputs": [],
   "source": [
    "# Binary or Jaccard Distance"
   ]
  },
  {
   "cell_type": "code",
   "execution_count": 18,
   "id": "65a63523",
   "metadata": {},
   "outputs": [],
   "source": [
    "distance.binary <- function(x, y){\n",
    "  x <- x != 0\n",
    "  y <- y != 0\n",
    "  a <- sum(x & y)\n",
    "  b <- sum (x | y)\n",
    "  1 - (a / b)\n",
    "}"
   ]
  },
  {
   "cell_type": "code",
   "execution_count": 19,
   "id": "c3bba647",
   "metadata": {},
   "outputs": [
    {
     "data": {
      "text/html": [
       "0.666666666666667"
      ],
      "text/latex": [
       "0.666666666666667"
      ],
      "text/markdown": [
       "0.666666666666667"
      ],
      "text/plain": [
       "[1] 0.6666667"
      ]
     },
     "metadata": {},
     "output_type": "display_data"
    }
   ],
   "source": [
    "a <- c(1, 0, 3, 0)\n",
    "b <- c(0, 2, 4, 0)\n",
    "distance.binary(a, b)"
   ]
  },
  {
   "cell_type": "code",
   "execution_count": 20,
   "id": "41c233b3",
   "metadata": {},
   "outputs": [],
   "source": [
    "# dist Function"
   ]
  },
  {
   "cell_type": "code",
   "execution_count": 21,
   "id": "178d3906",
   "metadata": {},
   "outputs": [],
   "source": [
    "eye <- diag(3)"
   ]
  },
  {
   "cell_type": "code",
   "execution_count": 22,
   "id": "b8fbf997",
   "metadata": {},
   "outputs": [
    {
     "data": {
      "text/html": [
       "<table>\n",
       "<tbody>\n",
       "\t<tr><td>1</td><td>0</td><td>0</td></tr>\n",
       "\t<tr><td>0</td><td>1</td><td>0</td></tr>\n",
       "\t<tr><td>0</td><td>0</td><td>1</td></tr>\n",
       "</tbody>\n",
       "</table>\n"
      ],
      "text/latex": [
       "\\begin{tabular}{lll}\n",
       "\t 1 & 0 & 0\\\\\n",
       "\t 0 & 1 & 0\\\\\n",
       "\t 0 & 0 & 1\\\\\n",
       "\\end{tabular}\n"
      ],
      "text/markdown": [
       "\n",
       "| 1 | 0 | 0 |\n",
       "| 0 | 1 | 0 |\n",
       "| 0 | 0 | 1 |\n",
       "\n"
      ],
      "text/plain": [
       "     [,1] [,2] [,3]\n",
       "[1,] 1    0    0   \n",
       "[2,] 0    1    0   \n",
       "[3,] 0    0    1   "
      ]
     },
     "metadata": {},
     "output_type": "display_data"
    }
   ],
   "source": [
    "eye"
   ]
  },
  {
   "cell_type": "code",
   "execution_count": 28,
   "id": "1d01c529",
   "metadata": {},
   "outputs": [],
   "source": [
    "# Computing Manhattan distances:\n",
    "d1 <- dist(eye, method='manhattan')"
   ]
  },
  {
   "cell_type": "code",
   "execution_count": 29,
   "id": "ef69f6e5",
   "metadata": {},
   "outputs": [
    {
     "data": {
      "text/html": [
       "<table>\n",
       "<thead><tr><th scope=col>1</th><th scope=col>2</th><th scope=col>3</th></tr></thead>\n",
       "<tbody>\n",
       "\t<tr><td>0</td><td>2</td><td>2</td></tr>\n",
       "\t<tr><td>2</td><td>0</td><td>2</td></tr>\n",
       "\t<tr><td>2</td><td>2</td><td>0</td></tr>\n",
       "</tbody>\n",
       "</table>\n"
      ],
      "text/latex": [
       "\\begin{tabular}{r|lll}\n",
       " 1 & 2 & 3\\\\\n",
       "\\hline\n",
       "\t 0 & 2 & 2\\\\\n",
       "\t 2 & 0 & 2\\\\\n",
       "\t 2 & 2 & 0\\\\\n",
       "\\end{tabular}\n"
      ],
      "text/markdown": [
       "\n",
       "| 1 | 2 | 3 |\n",
       "|---|---|---|\n",
       "| 0 | 2 | 2 |\n",
       "| 2 | 0 | 2 |\n",
       "| 2 | 2 | 0 |\n",
       "\n"
      ],
      "text/plain": [
       "  1 2 3\n",
       "1 0 2 2\n",
       "2 2 0 2\n",
       "3 2 2 0"
      ]
     },
     "metadata": {},
     "output_type": "display_data"
    }
   ],
   "source": [
    "as.matrix(d1)"
   ]
  },
  {
   "cell_type": "code",
   "execution_count": 30,
   "id": "00cfe703",
   "metadata": {},
   "outputs": [],
   "source": [
    "# Computing maximum distances:"
   ]
  },
  {
   "cell_type": "code",
   "execution_count": 31,
   "id": "e3b3a2f2",
   "metadata": {},
   "outputs": [
    {
     "data": {
      "text/html": [
       "<table>\n",
       "<thead><tr><th scope=col>1</th><th scope=col>2</th><th scope=col>3</th></tr></thead>\n",
       "<tbody>\n",
       "\t<tr><td>0</td><td>1</td><td>1</td></tr>\n",
       "\t<tr><td>1</td><td>0</td><td>1</td></tr>\n",
       "\t<tr><td>1</td><td>1</td><td>0</td></tr>\n",
       "</tbody>\n",
       "</table>\n"
      ],
      "text/latex": [
       "\\begin{tabular}{r|lll}\n",
       " 1 & 2 & 3\\\\\n",
       "\\hline\n",
       "\t 0 & 1 & 1\\\\\n",
       "\t 1 & 0 & 1\\\\\n",
       "\t 1 & 1 & 0\\\\\n",
       "\\end{tabular}\n"
      ],
      "text/markdown": [
       "\n",
       "| 1 | 2 | 3 |\n",
       "|---|---|---|\n",
       "| 0 | 1 | 1 |\n",
       "| 1 | 0 | 1 |\n",
       "| 1 | 1 | 0 |\n",
       "\n"
      ],
      "text/plain": [
       "  1 2 3\n",
       "1 0 1 1\n",
       "2 1 0 1\n",
       "3 1 1 0"
      ]
     },
     "metadata": {},
     "output_type": "display_data"
    }
   ],
   "source": [
    "dinf <- dist(eye, method='maximum')\n",
    "as.matrix(dinf)"
   ]
  },
  {
   "cell_type": "code",
   "execution_count": 32,
   "id": "2f3dd30e",
   "metadata": {},
   "outputs": [],
   "source": [
    "# Minkowski distances:"
   ]
  },
  {
   "cell_type": "code",
   "execution_count": 33,
   "id": "f427f55b",
   "metadata": {},
   "outputs": [
    {
     "data": {
      "text/html": [
       "<table>\n",
       "<thead><tr><th scope=col>1</th><th scope=col>2</th><th scope=col>3</th></tr></thead>\n",
       "<tbody>\n",
       "\t<tr><td>0</td><td>4</td><td>4</td></tr>\n",
       "\t<tr><td>4</td><td>0</td><td>4</td></tr>\n",
       "\t<tr><td>4</td><td>4</td><td>0</td></tr>\n",
       "</tbody>\n",
       "</table>\n"
      ],
      "text/latex": [
       "\\begin{tabular}{r|lll}\n",
       " 1 & 2 & 3\\\\\n",
       "\\hline\n",
       "\t 0 & 4 & 4\\\\\n",
       "\t 4 & 0 & 4\\\\\n",
       "\t 4 & 4 & 0\\\\\n",
       "\\end{tabular}\n"
      ],
      "text/markdown": [
       "\n",
       "| 1 | 2 | 3 |\n",
       "|---|---|---|\n",
       "| 0 | 4 | 4 |\n",
       "| 4 | 0 | 4 |\n",
       "| 4 | 4 | 0 |\n",
       "\n"
      ],
      "text/plain": [
       "  1 2 3\n",
       "1 0 4 4\n",
       "2 4 0 4\n",
       "3 4 4 0"
      ]
     },
     "metadata": {},
     "output_type": "display_data"
    }
   ],
   "source": [
    "as.matrix(dist(eye, 'minkowski', p=0.5))"
   ]
  },
  {
   "cell_type": "code",
   "execution_count": 34,
   "id": "d277348a",
   "metadata": {},
   "outputs": [
    {
     "data": {
      "text/html": [
       "<table>\n",
       "<thead><tr><th scope=col>1</th><th scope=col>2</th><th scope=col>3</th></tr></thead>\n",
       "<tbody>\n",
       "\t<tr><td>0.000000</td><td>1.259921</td><td>1.259921</td></tr>\n",
       "\t<tr><td>1.259921</td><td>0.000000</td><td>1.259921</td></tr>\n",
       "\t<tr><td>1.259921</td><td>1.259921</td><td>0.000000</td></tr>\n",
       "</tbody>\n",
       "</table>\n"
      ],
      "text/latex": [
       "\\begin{tabular}{r|lll}\n",
       " 1 & 2 & 3\\\\\n",
       "\\hline\n",
       "\t 0.000000 & 1.259921 & 1.259921\\\\\n",
       "\t 1.259921 & 0.000000 & 1.259921\\\\\n",
       "\t 1.259921 & 1.259921 & 0.000000\\\\\n",
       "\\end{tabular}\n"
      ],
      "text/markdown": [
       "\n",
       "| 1 | 2 | 3 |\n",
       "|---|---|---|\n",
       "| 0.000000 | 1.259921 | 1.259921 |\n",
       "| 1.259921 | 0.000000 | 1.259921 |\n",
       "| 1.259921 | 1.259921 | 0.000000 |\n",
       "\n"
      ],
      "text/plain": [
       "  1        2        3       \n",
       "1 0.000000 1.259921 1.259921\n",
       "2 1.259921 0.000000 1.259921\n",
       "3 1.259921 1.259921 0.000000"
      ]
     },
     "metadata": {},
     "output_type": "display_data"
    }
   ],
   "source": [
    "as.matrix(dist(eye, 'minkowski', p=3))"
   ]
  },
  {
   "cell_type": "code",
   "execution_count": 35,
   "id": "23d97628",
   "metadata": {},
   "outputs": [],
   "source": [
    "# Canberra distances:"
   ]
  },
  {
   "cell_type": "code",
   "execution_count": 36,
   "id": "bad499f2",
   "metadata": {},
   "outputs": [
    {
     "data": {
      "text/html": [
       "<table>\n",
       "<thead><tr><th scope=col>1</th><th scope=col>2</th><th scope=col>3</th></tr></thead>\n",
       "<tbody>\n",
       "\t<tr><td>0</td><td>3</td><td>3</td></tr>\n",
       "\t<tr><td>3</td><td>0</td><td>3</td></tr>\n",
       "\t<tr><td>3</td><td>3</td><td>0</td></tr>\n",
       "</tbody>\n",
       "</table>\n"
      ],
      "text/latex": [
       "\\begin{tabular}{r|lll}\n",
       " 1 & 2 & 3\\\\\n",
       "\\hline\n",
       "\t 0 & 3 & 3\\\\\n",
       "\t 3 & 0 & 3\\\\\n",
       "\t 3 & 3 & 0\\\\\n",
       "\\end{tabular}\n"
      ],
      "text/markdown": [
       "\n",
       "| 1 | 2 | 3 |\n",
       "|---|---|---|\n",
       "| 0 | 3 | 3 |\n",
       "| 3 | 0 | 3 |\n",
       "| 3 | 3 | 0 |\n",
       "\n"
      ],
      "text/plain": [
       "  1 2 3\n",
       "1 0 3 3\n",
       "2 3 0 3\n",
       "3 3 3 0"
      ]
     },
     "metadata": {},
     "output_type": "display_data"
    }
   ],
   "source": [
    "as.matrix(dist(eye, 'canberra'))"
   ]
  },
  {
   "cell_type": "code",
   "execution_count": 37,
   "id": "d3ba1c8d",
   "metadata": {},
   "outputs": [],
   "source": [
    "# It is also straightforward to compute distance between two points as follows:"
   ]
  },
  {
   "cell_type": "code",
   "execution_count": 38,
   "id": "f739cb66",
   "metadata": {},
   "outputs": [
    {
     "data": {
      "text/plain": [
       "        a\n",
       "b 2.44949"
      ]
     },
     "metadata": {},
     "output_type": "display_data"
    }
   ],
   "source": [
    "a <- c(1, 0, 3, 0)\n",
    "b <- c(0, 2, 4, 0)\n",
    "dist(rbind(a, b))"
   ]
  },
  {
   "cell_type": "code",
   "execution_count": 39,
   "id": "b247c1c0",
   "metadata": {},
   "outputs": [
    {
     "data": {
      "text/plain": [
       "  a\n",
       "b 4"
      ]
     },
     "metadata": {},
     "output_type": "display_data"
    }
   ],
   "source": [
    "dist(rbind(a, b), method='manhattan')"
   ]
  },
  {
   "cell_type": "code",
   "execution_count": 40,
   "id": "1e440aa5",
   "metadata": {},
   "outputs": [
    {
     "data": {
      "text/plain": [
       "  a\n",
       "b 2"
      ]
     },
     "metadata": {},
     "output_type": "display_data"
    }
   ],
   "source": [
    "dist(rbind(a, b), method='maximum')"
   ]
  },
  {
   "cell_type": "code",
   "execution_count": 41,
   "id": "5fde5ee6",
   "metadata": {},
   "outputs": [],
   "source": [
    "# Computing the binary distance:"
   ]
  },
  {
   "cell_type": "code",
   "execution_count": 42,
   "id": "a84c74b5",
   "metadata": {},
   "outputs": [
    {
     "data": {
      "text/plain": [
       "          a\n",
       "b 0.6666667"
      ]
     },
     "metadata": {},
     "output_type": "display_data"
    }
   ],
   "source": [
    "dist(rbind(a, b), method='binary')"
   ]
  },
  {
   "cell_type": "code",
   "execution_count": 43,
   "id": "54f543f1",
   "metadata": {},
   "outputs": [],
   "source": [
    "# Understanding the dist object\n",
    "# The dist function returns an object of class dict.\n",
    "#Let us create 4 points for this exercise:"
   ]
  },
  {
   "cell_type": "code",
   "execution_count": 44,
   "id": "15c63182",
   "metadata": {},
   "outputs": [],
   "source": [
    "points <- diag(c(1,2,3,4))"
   ]
  },
  {
   "cell_type": "code",
   "execution_count": 46,
   "id": "a0a32aed",
   "metadata": {},
   "outputs": [
    {
     "data": {
      "text/html": [
       "<table>\n",
       "<tbody>\n",
       "\t<tr><td>1</td><td>0</td><td>0</td><td>0</td></tr>\n",
       "\t<tr><td>0</td><td>2</td><td>0</td><td>0</td></tr>\n",
       "\t<tr><td>0</td><td>0</td><td>3</td><td>0</td></tr>\n",
       "\t<tr><td>0</td><td>0</td><td>0</td><td>4</td></tr>\n",
       "</tbody>\n",
       "</table>\n"
      ],
      "text/latex": [
       "\\begin{tabular}{llll}\n",
       "\t 1 & 0 & 0 & 0\\\\\n",
       "\t 0 & 2 & 0 & 0\\\\\n",
       "\t 0 & 0 & 3 & 0\\\\\n",
       "\t 0 & 0 & 0 & 4\\\\\n",
       "\\end{tabular}\n"
      ],
      "text/markdown": [
       "\n",
       "| 1 | 0 | 0 | 0 |\n",
       "| 0 | 2 | 0 | 0 |\n",
       "| 0 | 0 | 3 | 0 |\n",
       "| 0 | 0 | 0 | 4 |\n",
       "\n"
      ],
      "text/plain": [
       "     [,1] [,2] [,3] [,4]\n",
       "[1,] 1    0    0    0   \n",
       "[2,] 0    2    0    0   \n",
       "[3,] 0    0    3    0   \n",
       "[4,] 0    0    0    4   "
      ]
     },
     "metadata": {},
     "output_type": "display_data"
    }
   ],
   "source": [
    "points"
   ]
  },
  {
   "cell_type": "code",
   "execution_count": 47,
   "id": "a9066823",
   "metadata": {},
   "outputs": [],
   "source": [
    "#Let us compute the city block distances between these points:"
   ]
  },
  {
   "cell_type": "code",
   "execution_count": 48,
   "id": "f0d1ebe9",
   "metadata": {},
   "outputs": [],
   "source": [
    "distances <- dist(points, method='manhattan')"
   ]
  },
  {
   "cell_type": "code",
   "execution_count": 49,
   "id": "1279d3e4",
   "metadata": {},
   "outputs": [],
   "source": [
    "# Check the class of the returned value:"
   ]
  },
  {
   "cell_type": "code",
   "execution_count": 50,
   "id": "6839aa5b",
   "metadata": {},
   "outputs": [
    {
     "data": {
      "text/html": [
       "'dist'"
      ],
      "text/latex": [
       "'dist'"
      ],
      "text/markdown": [
       "'dist'"
      ],
      "text/plain": [
       "[1] \"dist\""
      ]
     },
     "metadata": {},
     "output_type": "display_data"
    }
   ],
   "source": [
    "class(distances)"
   ]
  },
  {
   "cell_type": "code",
   "execution_count": 51,
   "id": "00718adc",
   "metadata": {},
   "outputs": [
    {
     "data": {
      "text/plain": [
       "  1 2 3\n",
       "2 3    \n",
       "3 4 5  \n",
       "4 5 6 7"
      ]
     },
     "metadata": {},
     "output_type": "display_data"
    }
   ],
   "source": [
    "distances"
   ]
  },
  {
   "cell_type": "code",
   "execution_count": 52,
   "id": "072ed9b6",
   "metadata": {},
   "outputs": [
    {
     "data": {
      "text/html": [
       "4"
      ],
      "text/latex": [
       "4"
      ],
      "text/markdown": [
       "4"
      ],
      "text/plain": [
       "[1] 4"
      ]
     },
     "metadata": {},
     "output_type": "display_data"
    }
   ],
   "source": [
    "# If you note carefully, you can see that the distances object contains the lower triangle of the distance matrix [below the diagonal]. For 4 points, it stores 6 distances (1 + 2 + 3 = 4 * 3 / 2 = 6).\n",
    "# The number of points for which distances were calculated can be accessed from the dist object as follows:\n",
    "\n",
    "attr(distances, 'Size')"
   ]
  },
  {
   "cell_type": "code",
   "execution_count": 53,
   "id": "73872a90",
   "metadata": {},
   "outputs": [
    {
     "data": {
      "text/html": [
       "4"
      ],
      "text/latex": [
       "4"
      ],
      "text/markdown": [
       "4"
      ],
      "text/plain": [
       "[1] 4"
      ]
     },
     "metadata": {},
     "output_type": "display_data"
    }
   ],
   "source": [
    "attr(distances, 'Size')"
   ]
  },
  {
   "cell_type": "code",
   "execution_count": 54,
   "id": "f940519a",
   "metadata": {},
   "outputs": [],
   "source": [
    " n <- attr(distances, 'Size')"
   ]
  },
  {
   "cell_type": "code",
   "execution_count": 55,
   "id": "40aed020",
   "metadata": {},
   "outputs": [],
   "source": [
    "# Let us say we want to find the distance between 2nd and 4th point:"
   ]
  },
  {
   "cell_type": "code",
   "execution_count": 56,
   "id": "f75322e8",
   "metadata": {},
   "outputs": [],
   "source": [
    "i <- 2; j <- 4;"
   ]
  },
  {
   "cell_type": "code",
   "execution_count": 57,
   "id": "ce17be15",
   "metadata": {},
   "outputs": [
    {
     "data": {
      "text/html": [
       "6"
      ],
      "text/latex": [
       "6"
      ],
      "text/markdown": [
       "6"
      ],
      "text/plain": [
       "[1] 6"
      ]
     },
     "metadata": {},
     "output_type": "display_data"
    }
   ],
   "source": [
    "distances[n*(i-1) - i*(i-1)/2 + j-i]"
   ]
  },
  {
   "cell_type": "code",
   "execution_count": null,
   "id": "ba090316",
   "metadata": {},
   "outputs": [],
   "source": []
  }
 ],
 "metadata": {
  "kernelspec": {
   "display_name": "R",
   "language": "R",
   "name": "ir"
  },
  "language_info": {
   "codemirror_mode": "r",
   "file_extension": ".r",
   "mimetype": "text/x-r-source",
   "name": "R",
   "pygments_lexer": "r",
   "version": "3.6.1"
  }
 },
 "nbformat": 4,
 "nbformat_minor": 5
}
