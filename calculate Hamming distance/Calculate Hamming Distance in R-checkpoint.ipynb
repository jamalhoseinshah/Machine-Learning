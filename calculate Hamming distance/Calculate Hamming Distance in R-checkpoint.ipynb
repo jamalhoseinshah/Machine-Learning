{
 "cells": [
  {
   "cell_type": "markdown",
   "id": "0a833b71",
   "metadata": {},
   "source": [
    "# Calculate Hamming Distance in R\n",
    "Created by jamal hussain shah  jamalhoseinshah@gmail.com"
   ]
  },
  {
   "cell_type": "code",
   "execution_count": 2,
   "id": "13f63fcb",
   "metadata": {},
   "outputs": [],
   "source": [
    "#create vectors\n",
    "x <- c(0, 0, 1, 1, 1)\n",
    "y <- c(0, 1, 1, 1, 0)"
   ]
  },
  {
   "cell_type": "code",
   "execution_count": 3,
   "id": "f701af77",
   "metadata": {},
   "outputs": [
    {
     "data": {
      "text/html": [
       "2"
      ],
      "text/latex": [
       "2"
      ],
      "text/markdown": [
       "2"
      ],
      "text/plain": [
       "[1] 2"
      ]
     },
     "metadata": {},
     "output_type": "display_data"
    }
   ],
   "source": [
    "#find Hamming distance between vectors\n",
    "sum(x != y)"
   ]
  },
  {
   "cell_type": "markdown",
   "id": "1ecf113c",
   "metadata": {},
   "source": [
    " Hamming Distance Between Numerical Vectors"
   ]
  },
  {
   "cell_type": "code",
   "execution_count": 5,
   "id": "f64fe82a",
   "metadata": {},
   "outputs": [],
   "source": [
    "#create vectors\n",
    "x <- c(7, 12, 14, 19, 22)\n",
    "y <- c(7, 12, 16, 26, 27)"
   ]
  },
  {
   "cell_type": "code",
   "execution_count": 6,
   "id": "38cca950",
   "metadata": {},
   "outputs": [
    {
     "data": {
      "text/html": [
       "3"
      ],
      "text/latex": [
       "3"
      ],
      "text/markdown": [
       "3"
      ],
      "text/plain": [
       "[1] 3"
      ]
     },
     "metadata": {},
     "output_type": "display_data"
    }
   ],
   "source": [
    "#find Hamming distance between vectors\n",
    "sum(x != y)"
   ]
  },
  {
   "cell_type": "markdown",
   "id": "0127785c",
   "metadata": {},
   "source": [
    "Hamming Distance Between String Vectors"
   ]
  },
  {
   "cell_type": "code",
   "execution_count": 7,
   "id": "d4ed4d37",
   "metadata": {},
   "outputs": [],
   "source": [
    "#create vectors\n",
    "x <- c('a', 'b', 'c', 'd')\n",
    "y <- c('a', 'b', 'c', 'r')"
   ]
  },
  {
   "cell_type": "code",
   "execution_count": 8,
   "id": "7898aac2",
   "metadata": {},
   "outputs": [
    {
     "data": {
      "text/html": [
       "1"
      ],
      "text/latex": [
       "1"
      ],
      "text/markdown": [
       "1"
      ],
      "text/plain": [
       "[1] 1"
      ]
     },
     "metadata": {},
     "output_type": "display_data"
    }
   ],
   "source": [
    "#find Hamming distance between vectors\n",
    "sum(x != y)"
   ]
  },
  {
   "cell_type": "markdown",
   "id": "8d24e320",
   "metadata": {},
   "source": [
    "#### Result: The Hamming distance between the two vectors is 1."
   ]
  },
  {
   "cell_type": "code",
   "execution_count": null,
   "id": "1ec86a32",
   "metadata": {},
   "outputs": [],
   "source": []
  }
 ],
 "metadata": {
  "kernelspec": {
   "display_name": "R",
   "language": "R",
   "name": "ir"
  },
  "language_info": {
   "codemirror_mode": "r",
   "file_extension": ".r",
   "mimetype": "text/x-r-source",
   "name": "R",
   "pygments_lexer": "r",
   "version": "3.6.1"
  }
 },
 "nbformat": 4,
 "nbformat_minor": 5
}
