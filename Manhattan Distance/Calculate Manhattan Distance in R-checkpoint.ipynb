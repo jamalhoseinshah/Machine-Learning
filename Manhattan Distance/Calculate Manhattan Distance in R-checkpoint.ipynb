{
 "cells": [
  {
   "cell_type": "markdown",
   "id": "1afff86f",
   "metadata": {},
   "source": [
    "# How to Calculate Manhattan Distance in R\n",
    "Created by this topic by jamal hussain shah  jamalhoseinshah@gmail.com "
   ]
  },
  {
   "cell_type": "code",
   "execution_count": 1,
   "id": "e06f2aa0",
   "metadata": {},
   "outputs": [],
   "source": [
    "#create function to calculate Manhattan distance\n",
    "manhattan_dist <- function(a, b){\n",
    "     dist <- abs(a-b)\n",
    "     dist <- sum(dist)\n",
    "     return(dist)\n",
    "}"
   ]
  },
  {
   "cell_type": "code",
   "execution_count": 2,
   "id": "1c42ddac",
   "metadata": {},
   "outputs": [],
   "source": [
    "#define two vectors\n",
    "a <- c(2, 4, 4, 6)\n",
    "\n",
    "b <- c(5, 5, 7, 8)"
   ]
  },
  {
   "cell_type": "code",
   "execution_count": 3,
   "id": "badaf241",
   "metadata": {},
   "outputs": [
    {
     "data": {
      "text/html": [
       "9"
      ],
      "text/latex": [
       "9"
      ],
      "text/markdown": [
       "9"
      ],
      "text/plain": [
       "[1] 9"
      ]
     },
     "metadata": {},
     "output_type": "display_data"
    }
   ],
   "source": [
    "#calculate Manhattan distance between vectors\n",
    "manhattan_dist(a, b)"
   ]
  },
  {
   "cell_type": "markdown",
   "id": "744c2c44",
   "metadata": {},
   "source": [
    "# Manhattan Distance Between Vectors in a Matrix\n",
    "\n",
    "To calculate the Manhattan distance between several vectors in a matrix, we can use the built-in dist() function in R:"
   ]
  },
  {
   "cell_type": "code",
   "execution_count": 4,
   "id": "d2188a19",
   "metadata": {},
   "outputs": [],
   "source": [
    "#create four vectors\n",
    "a <- c(2, 4, 4, 6)\n",
    "\n",
    "b <- c(5, 5, 7, 8)\n",
    "\n",
    "c <- c(9, 9, 9, 8)\n",
    "\n",
    "d <- c(1, 2, 3, 3)"
   ]
  },
  {
   "cell_type": "code",
   "execution_count": 5,
   "id": "a4212bfa",
   "metadata": {},
   "outputs": [],
   "source": [
    "#bind vectors into one matrix\n",
    "mat <- rbind(a, b, c, d)"
   ]
  },
  {
   "cell_type": "code",
   "execution_count": 6,
   "id": "05e56be6",
   "metadata": {},
   "outputs": [
    {
     "data": {
      "text/plain": [
       "   a  b  c\n",
       "b  9      \n",
       "c 19 10   \n",
       "d  7 16 26"
      ]
     },
     "metadata": {},
     "output_type": "display_data"
    }
   ],
   "source": [
    "#calculate Manhattan distance between each vector in the matrix\n",
    "dist(mat, method = \"manhattan\")"
   ]
  },
  {
   "cell_type": "markdown",
   "id": "4dc89801",
   "metadata": {},
   "source": [
    "The way to interpret this output is as follows:\n",
    "\n",
    "    The Manhattan distance between vector a and b is 9.\n",
    "    The Manhattan distance between vector a and c is 19.\n",
    "    The Manhattan distance between vector a and d is 7.\n",
    "    The Manhattan distance between vector b and c is 10.\n",
    "    The Manhattan distance between vector b and d is 16.\n",
    "    The Manhattan distance between vector c and d is 26.\n"
   ]
  },
  {
   "cell_type": "code",
   "execution_count": null,
   "id": "957b6dd1",
   "metadata": {},
   "outputs": [],
   "source": []
  }
 ],
 "metadata": {
  "kernelspec": {
   "display_name": "R",
   "language": "R",
   "name": "ir"
  },
  "language_info": {
   "codemirror_mode": "r",
   "file_extension": ".r",
   "mimetype": "text/x-r-source",
   "name": "R",
   "pygments_lexer": "r",
   "version": "3.6.1"
  }
 },
 "nbformat": 4,
 "nbformat_minor": 5
}
