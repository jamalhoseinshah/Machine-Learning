{
 "cells": [
  {
   "cell_type": "markdown",
   "id": "170454a2",
   "metadata": {},
   "source": [
    "# How to Calculate Minkowski Distance in R \n",
    "created by jamal hussain shah jamalhoseinshah@gmail.com "
   ]
  },
  {
   "cell_type": "code",
   "execution_count": 1,
   "id": "eb737135",
   "metadata": {},
   "outputs": [],
   "source": [
    "#define two vectors\n",
    "a <- c(2, 4, 4, 6)\n",
    "b <- c(5, 5, 7, 8)"
   ]
  },
  {
   "cell_type": "code",
   "execution_count": 2,
   "id": "ebd366e6",
   "metadata": {},
   "outputs": [],
   "source": [
    "#bind the two vectors into a single matrix\n",
    "mat <- rbind(a, b)"
   ]
  },
  {
   "cell_type": "code",
   "execution_count": 3,
   "id": "48c04216",
   "metadata": {},
   "outputs": [
    {
     "data": {
      "text/plain": [
       "         a\n",
       "b 3.979057"
      ]
     },
     "metadata": {},
     "output_type": "display_data"
    }
   ],
   "source": [
    "#calculate Minkowski distance between vectors using a power of 3\n",
    "dist(mat, method=\"minkowski\", p=3)"
   ]
  },
  {
   "cell_type": "markdown",
   "id": "3041d955",
   "metadata": {},
   "source": [
    "# Minkowski Distance Between Vectors in a Matrix"
   ]
  },
  {
   "cell_type": "code",
   "execution_count": 4,
   "id": "9286bb23",
   "metadata": {},
   "outputs": [],
   "source": [
    "#create four vectors\n",
    "a <- c(2, 4, 4, 6)\n",
    "\n",
    "b <- c(5, 5, 7, 8)\n",
    "\n",
    "c <- c(9, 9, 9, 8)\n",
    "\n",
    "d <- c(1, 2, 3, 3)"
   ]
  },
  {
   "cell_type": "code",
   "execution_count": 5,
   "id": "375f7948",
   "metadata": {},
   "outputs": [],
   "source": [
    "#bind vectors into one matrix\n",
    "mat <- rbind(a, b, c, d)"
   ]
  },
  {
   "cell_type": "code",
   "execution_count": 6,
   "id": "89fcb658",
   "metadata": {},
   "outputs": [
    {
     "data": {
      "text/plain": [
       "          a         b         c\n",
       "b  3.979057                    \n",
       "c  8.439010  5.142563          \n",
       "d  3.332222  6.542133 10.614765"
      ]
     },
     "metadata": {},
     "output_type": "display_data"
    }
   ],
   "source": [
    "#calculate Minkowski distance between vectors using a power of 3\n",
    "dist(mat, method = \"minkowski\", p=3)"
   ]
  },
  {
   "cell_type": "markdown",
   "id": "c374ed09",
   "metadata": {},
   "source": [
    "The way to interpret this output is as follows:\n",
    "\n",
    "    The Minkowski distance between vector a and b is 3.98.\n",
    "    The Minkowski distance between vector a and c is 8.43.\n",
    "    The Minkowski distance between vector a and d is 3.33.\n",
    "    The Minkowski distance between vector b and c is 5.14.\n",
    "    The Minkowski distance between vector b and d is 6.54.\n",
    "    The Minkowski distance between vector c and d is 10.61.\n"
   ]
  },
  {
   "cell_type": "code",
   "execution_count": null,
   "id": "6043756c",
   "metadata": {},
   "outputs": [],
   "source": []
  }
 ],
 "metadata": {
  "kernelspec": {
   "display_name": "R",
   "language": "R",
   "name": "ir"
  },
  "language_info": {
   "codemirror_mode": "r",
   "file_extension": ".r",
   "mimetype": "text/x-r-source",
   "name": "R",
   "pygments_lexer": "r",
   "version": "3.6.1"
  }
 },
 "nbformat": 4,
 "nbformat_minor": 5
}
